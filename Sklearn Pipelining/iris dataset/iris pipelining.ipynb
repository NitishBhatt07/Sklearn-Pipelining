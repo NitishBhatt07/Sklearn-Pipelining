{
 "cells": [
  {
   "cell_type": "code",
   "execution_count": 18,
   "id": "f55a90ef",
   "metadata": {},
   "outputs": [],
   "source": [
    "from sklearn.datasets import load_iris\n",
    "from sklearn.model_selection import train_test_split\n",
    "from sklearn.preprocessing import StandardScaler\n",
    "\n",
    "from sklearn.decomposition import PCA   # principle component analysis reduce the dimensions\n",
    "from sklearn.pipeline import Pipeline\n",
    "import joblib\n",
    "\n",
    "from sklearn.linear_model import LogisticRegression\n",
    "from sklearn.tree import DecisionTreeClassifier\n",
    "from sklearn.ensemble import RandomForestClassifier\n",
    "\n",
    "import warnings\n",
    "warnings.filterwarnings(\"ignore\")"
   ]
  },
  {
   "cell_type": "code",
   "execution_count": 8,
   "id": "34ebb505",
   "metadata": {},
   "outputs": [],
   "source": [
    "iris_df = load_iris()\n",
    "X = iris_df.data\n",
    "y = iris_df.target"
   ]
  },
  {
   "cell_type": "code",
   "execution_count": 13,
   "id": "2b88fbf9",
   "metadata": {},
   "outputs": [],
   "source": [
    "X_train,X_test,y_train,y_test = train_test_split(X,y,test_size=0.2,random_state=0)"
   ]
  },
  {
   "cell_type": "code",
   "execution_count": 14,
   "id": "bb406087",
   "metadata": {},
   "outputs": [],
   "source": [
    "# Pipeline Creation\n",
    "# 1. Data Preprocessing by usng Standard Scalar\n",
    "# 2. Reduce dimensions by PCA \n",
    "# 3. Apply classifier"
   ]
  },
  {
   "cell_type": "code",
   "execution_count": 37,
   "id": "c180822b",
   "metadata": {},
   "outputs": [],
   "source": [
    "pipeline_lr = Pipeline([('scalar1',StandardScaler()),\n",
    "                   ('pca1',PCA(n_components=2)),\n",
    "                   ('lr_classifier',LogisticRegression(random_state=0))])"
   ]
  },
  {
   "cell_type": "code",
   "execution_count": 38,
   "id": "e42ea27a",
   "metadata": {},
   "outputs": [],
   "source": [
    "pipeline_dt = Pipeline([('scalar2',StandardScaler()),\n",
    "                      ('pca2',PCA(n_components=2)),\n",
    "                      ('dt_classifier',DecisionTreeClassifier())])"
   ]
  },
  {
   "cell_type": "code",
   "execution_count": 39,
   "id": "0e6757ee",
   "metadata": {},
   "outputs": [],
   "source": [
    "pipeline_rf = Pipeline([('scalar3',StandardScaler()),\n",
    "                      ('pca3',PCA(n_components=2)),\n",
    "                      ('rf_classifier',RandomForestClassifier())])"
   ]
  },
  {
   "cell_type": "code",
   "execution_count": 40,
   "id": "2262b4e3",
   "metadata": {},
   "outputs": [],
   "source": [
    "# making the list of pipelines\n",
    "pipelines = [pipeline_lr,pipeline_dt,pipeline_rf]"
   ]
  },
  {
   "cell_type": "code",
   "execution_count": 43,
   "id": "7284b1bf",
   "metadata": {},
   "outputs": [],
   "source": [
    "# dict of pipelines and classifier types for ease of referance\n",
    "pipe_dict = {0:'LogisticRegression',1:\"DecisionTreeClassifier\",2:\"RandomForestClassifier\"}\n",
    "\n",
    "#fit the pipeline\n",
    "for pipe in pipelines:\n",
    "    pipe.fit(X_train,y_train)"
   ]
  },
  {
   "cell_type": "code",
   "execution_count": 45,
   "id": "5dfbbdce",
   "metadata": {},
   "outputs": [
    {
     "name": "stdout",
     "output_type": "stream",
     "text": [
      "LogisticRegression Test Accuracy 0.8666666666666667\n",
      "DecisionTreeClassifier Test Accuracy 0.9333333333333333\n",
      "RandomForestClassifier Test Accuracy 0.8666666666666667\n"
     ]
    }
   ],
   "source": [
    "for i,model in enumerate(pipelines):\n",
    "    print(f\"{pipe_dict[i]} Test Accuracy {model.score(X_test,y_test)}\")"
   ]
  },
  {
   "cell_type": "code",
   "execution_count": null,
   "id": "ab04733f",
   "metadata": {},
   "outputs": [],
   "source": []
  },
  {
   "cell_type": "code",
   "execution_count": null,
   "id": "14ce8c3d",
   "metadata": {},
   "outputs": [],
   "source": []
  },
  {
   "cell_type": "code",
   "execution_count": null,
   "id": "6604afc5",
   "metadata": {},
   "outputs": [],
   "source": []
  },
  {
   "cell_type": "code",
   "execution_count": null,
   "id": "48bbcf99",
   "metadata": {},
   "outputs": [],
   "source": []
  },
  {
   "cell_type": "code",
   "execution_count": null,
   "id": "39374d03",
   "metadata": {},
   "outputs": [],
   "source": []
  }
 ],
 "metadata": {
  "kernelspec": {
   "display_name": "Python 3",
   "language": "python",
   "name": "python3"
  },
  "language_info": {
   "codemirror_mode": {
    "name": "ipython",
    "version": 3
   },
   "file_extension": ".py",
   "mimetype": "text/x-python",
   "name": "python",
   "nbconvert_exporter": "python",
   "pygments_lexer": "ipython3",
   "version": "3.8.10"
  }
 },
 "nbformat": 4,
 "nbformat_minor": 5
}
